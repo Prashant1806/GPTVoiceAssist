{
  "nbformat": 4,
  "nbformat_minor": 0,
  "metadata": {
    "colab": {
      "provenance": [],
      "authorship_tag": "ABX9TyNtxOuh0lvvhk/stmKLJTLm",
      "include_colab_link": true
    },
    "kernelspec": {
      "name": "python3",
      "display_name": "Python 3"
    },
    "language_info": {
      "name": "python"
    }
  },
  "cells": [
    {
      "cell_type": "markdown",
      "metadata": {
        "id": "view-in-github",
        "colab_type": "text"
      },
      "source": [
        "<a href=\"https://colab.research.google.com/github/Prashant1806/GPTVoiceAssist/blob/main/GPTVoiceAssist.ipynb\" target=\"_parent\"><img src=\"https://colab.research.google.com/assets/colab-badge.svg\" alt=\"Open In Colab\"/></a>"
      ]
    },
    {
      "cell_type": "markdown",
      "source": [
        "# **Installing The Requriment(s)**"
      ],
      "metadata": {
        "id": "wNKavIqJ3RdB"
      }
    },
    {
      "cell_type": "code",
      "execution_count": 1,
      "metadata": {
        "colab": {
          "base_uri": "https://localhost:8080/",
          "height": 130
        },
        "id": "YJoogWtl0CJI",
        "outputId": "3d63648b-7ce7-4211-9bd3-66279baeea39"
      },
      "outputs": [
        {
          "output_type": "error",
          "ename": "SyntaxError",
          "evalue": "ignored",
          "traceback": [
            "\u001b[0;36m  File \u001b[0;32m\"<ipython-input-1-35a86bb28b48>\"\u001b[0;36m, line \u001b[0;32m1\u001b[0m\n\u001b[0;31m    pip install speech_recognition\u001b[0m\n\u001b[0m        ^\u001b[0m\n\u001b[0;31mSyntaxError\u001b[0m\u001b[0;31m:\u001b[0m invalid syntax\n"
          ]
        }
      ],
      "source": [
        "pip install speech_recognition \n",
        "pip install pyttsx3\n",
        "pip install openai"
      ]
    },
    {
      "cell_type": "markdown",
      "source": [
        "# **Main Code**"
      ],
      "metadata": {
        "id": "OXYKPwfq3ZF4"
      }
    },
    {
      "cell_type": "code",
      "source": [
        "import speech_recognition as sr\n",
        "import pyttsx3\n",
        "import openai\n",
        "\n",
        "openai.api_key = \"Your API Key\"\n",
        "\n",
        "engine = pyttsx3.init()\n",
        "voices = engine.getProperty('voices')\n",
        "engine.setProperty('voices', voices[1].id)\n",
        "\n",
        "r = sr.Recognizer()\n",
        "mic = sr.Microphone(device_index=1)\n",
        "\n",
        "conversation = \"\"\n",
        "user_name = \"Prashant\"\n",
        "bot_name = \"GPTVoiceAssist\"\n",
        "\n",
        "while True:\n",
        "    with mic as source:\n",
        "        print(\"\\n Listening...\")\n",
        "        r.adjust_for_ambient_noise(source, duration=0.2)\n",
        "        audio = r.listen(source)\n",
        "    print(\"no longer listening\")\n",
        "\n",
        "    try:\n",
        "        user_input = r.recognize_google(audio)\n",
        "    except:\n",
        "        continue\n",
        "\n",
        "    prompt = user_name+\":\"+user_input + \"\\n\"+bot_name+\":\"\n",
        "    conversation += prompt\n",
        "\n",
        "    response = openai.Completion.create(\n",
        "        model=\"text-davinci-003\",\n",
        "        prompt=conversation,\n",
        "        temperature=0.7,\n",
        "        max_tokens=256,\n",
        "        top_p=1,\n",
        "        frequency_penalty=0,\n",
        "        presence_penalty=0\n",
        "    )\n",
        "\n",
        "    response_str = response[\"choices\"][0][\"text\"].replace(\"\\n\", \"\")\n",
        "    response_str =response_str.split(\n",
        "        user_name + \":\" ,1)[0].split(bot_name+ \":\",1)[0]\n",
        "\n",
        "    conversation+= response_str +\"\\n\"\n",
        "    print(response_str)\n",
        "\n",
        "    engine.say(response_str)\n",
        "    engine.runAndWait()\n",
        "    \n"
      ],
      "metadata": {
        "id": "iCZXDIbe21Ni"
      },
      "execution_count": null,
      "outputs": []
    }
  ]
}